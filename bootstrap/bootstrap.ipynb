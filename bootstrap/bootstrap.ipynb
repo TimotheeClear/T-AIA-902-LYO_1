{
 "cells": [
  {
   "cell_type": "code",
   "execution_count": 4,
   "metadata": {},
   "outputs": [],
   "source": [
    "import sys, gym\n",
    "sys.path.append('..')\n",
    "from markov.Policies import ExplorationExploitationPolicy, RandomPolicy, QPolicy\n",
    "from markov.Training import Agent\n",
    "\n",
    "training_env = gym.make('FrozenLake-v1', is_slippery=True)\n",
    "policy = ExplorationExploitationPolicy(\n",
    "    epsilon             = 0.4,\n",
    "    exploration_policy  = RandomPolicy(),\n",
    "    exploitation_policy = QPolicy(alpha = 0.1, gamma = 0.9)\n",
    ")\n",
    "agent = Agent(\n",
    "    training_env        = training_env,\n",
    "    experience_policy   = policy,\n",
    "    learning_policies   = { \n",
    "        \"Q\":  policy\n",
    "    },\n",
    "    experience_buffer_size = 1\n",
    ")\n",
    "agent.Train(epochs = 1000)\n",
    "\n",
    "inference_env = gym.make('FrozenLake-v1', render_mode=\"human\", is_slippery=True)\n",
    "agent.Infere(\n",
    "    env = inference_env\n",
    ")\n"
   ]
  },
  {
   "cell_type": "code",
   "execution_count": 5,
   "metadata": {},
   "outputs": [],
   "source": [
    "training_env.close()\n",
    "inference_env.close()"
   ]
  }
 ],
 "metadata": {
  "kernelspec": {
   "display_name": "gym",
   "language": "python",
   "name": "python3"
  },
  "language_info": {
   "codemirror_mode": {
    "name": "ipython",
    "version": 3
   },
   "file_extension": ".py",
   "mimetype": "text/x-python",
   "name": "python",
   "nbconvert_exporter": "python",
   "pygments_lexer": "ipython3",
   "version": "3.10.8"
  }
 },
 "nbformat": 4,
 "nbformat_minor": 2
}
